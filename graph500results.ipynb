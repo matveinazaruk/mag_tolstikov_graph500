{
 "cells": [
  {
   "cell_type": "markdown",
   "metadata": {},
   "source": [
    "## Задание 1. Запуск на одном компьютере.\n",
    "\n",
    "### Подготовка\n",
    "\n",
    "Были скачаны исходники с https://github.com/matveinazaruk/mag_tolstikov_graph500. Для локального запуска был собран вариант с флагом для OMP. \n",
    "\n",
    "### Характеристики компьютера:\n",
    "\n",
    "- CPU: Intel Core i5 3210M (4 cores, 2.50GHz, 3M cache)\n",
    "- RAM: 8 GB DDR3\n",
    "- Storage: 500 GB HDD\n",
    "- OS: Ubuntu 14.04\n",
    "\n",
    "### Результат работы:\n",
    "\n",
    "Запуск для scale = 20:\n",
    "\n",
    "min_TEPS: 0.00000000000000000e+00  \n",
    "firstquartile_TEPS: 0.00000000000000000e+00  \n",
    "median_TEPS: 7.54294346953325033e+08  \n",
    "thirdquartile_TEPS: 9.45890993219265699e+08    \n",
    "max_TEPS: 1.08985632329697466e+09  \n",
    "harmonic_mean_TEPS: 1.60031095221299458e+09  \n",
    "harmonic_stddev_TEPS: 1.91396233924512774e+08  "
   ]
  },
  {
   "cell_type": "markdown",
   "metadata": {},
   "source": [
    "## Задание 2. Запуск на кластере.\n",
    "\n",
    "### Подготовка\n",
    "\n",
    "Для запуска было подготовлено 4 компьютера, объединенных в локальную сеть. На каждом был установлен mpich v3.2 и собран graph500 с флагом для mpi.  \n",
    "Ноутбуки были соединены в локальную сеть через tp-link, и для каждой пары установлено ssh соединение.  \n",
    "Запуск производился командой:  \n",
    "<code>\n",
    "mpirun -n 4 -f hostfile graph500/mpi/graph500_mpi_simple 12 16\n",
    "</code>\n",
    "\n",
    "### Характеристики компьютеров:\n",
    "\n",
    "1. Graph500-1\n",
    "    - CPU: Intel Core i7 6700HQ (4 cores, 2.60 GHz, 6M cache)\n",
    "    - RAM: 16 GB RAM DDR4\n",
    "    - Storage: 500 GB SSD\n",
    "    - OS: Ubuntu 14.04\n",
    "2. Graph500-2\n",
    "    - CPU: Core i5-5300U (2 cores, 2.7 GHz, 3M cache)\n",
    "    - RAM: 8GB DDR3L\n",
    "    - Storage: 256 GB SSD\n",
    "    - OS: Ubuntu 16.04\n",
    "3. Graph500-3\n",
    "    - CPU: AMD Athlon II X2 (2 cores, 2.1GHz, 2M cache)\n",
    "    - RAM: 2 GB RAM DDR3L\n",
    "    - Storage: 500 GB HDD\n",
    "    - OS: Ubuntu 16.04\n",
    "4. Graph500-4 (мой)\n",
    "    - CPU: Intel Core i5 3210M (4 cores, 2.50GHz, 3M cache)\n",
    "    - RAM: 8 GB DDR3\n",
    "    - Storage: 500 GB HDD\n",
    "    - OS: Ubuntu 14.04\n",
    "\n",
    "\n",
    "### Результат работы:\n",
    "\n",
    "Результат для scale = 12:\n",
    "\n",
    "min_TEPS: 685592  \n",
    "firstquartile_TEPS: 2.00253e+06  \n",
    "median_TEPS: 2.46504e+06  \n",
    "thirdquartile_TEPS: 3.1085e+06  \n",
    "max_TEPS: 6.08788e+06  \n",
    "harmonic_mean_TEPS: 2.3268e+06  \n",
    "harmonic_stddev_TEPS: 121596  "
   ]
  },
  {
   "cell_type": "markdown",
   "metadata": {},
   "source": [
    "### Не\n",
    "\n",
    "Как мы видим, результат на четырех ноутбуках получился хуже, чем на одном. \n",
    "Это должно показывать, что соединены они \"слабой\" сетью, которая не позволяет быстро обмениваться данными. "
   ]
  },
  {
   "cell_type": "code",
   "execution_count": null,
   "metadata": {
    "collapsed": true
   },
   "outputs": [],
   "source": []
  }
 ],
 "metadata": {
  "kernelspec": {
   "display_name": "Python 2",
   "language": "python",
   "name": "python2"
  },
  "language_info": {
   "codemirror_mode": {
    "name": "ipython",
    "version": 2
   },
   "file_extension": ".py",
   "mimetype": "text/x-python",
   "name": "python",
   "nbconvert_exporter": "python",
   "pygments_lexer": "ipython2",
   "version": "2.7.6"
  }
 },
 "nbformat": 4,
 "nbformat_minor": 0
}
